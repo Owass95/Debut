{
 "cells": [
  {
   "cell_type": "markdown",
   "id": "37a3752e",
   "metadata": {},
   "source": [
    "# Data Science Tools and Ecosystem"
   ]
  },
  {
   "cell_type": "markdown",
   "id": "45b9c820",
   "metadata": {},
   "source": [
    "In this notebook, Data Science Tools and Ecosystem are summerized."
   ]
  },
  {
   "cell_type": "markdown",
   "id": "0f32aebf",
   "metadata": {},
   "source": [
    "Objectives:\n",
    "- List of popular languages for Data Science\n",
    "- List of some commonly used libraries used by Data Scientists\n",
    "- List of some Data Science tools"
   ]
  },
  {
   "cell_type": "markdown",
   "id": "c0b8655d",
   "metadata": {},
   "source": [
    "Some of the popular languages that Data Scientists use are:\n",
    "1. Python\n",
    "1. R\n",
    "1. SQL"
   ]
  },
  {
   "cell_type": "markdown",
   "id": "442c11d3",
   "metadata": {},
   "source": [
    "Some of the commonly used libraries used by Data Scientists include:\n",
    "1. NumPy\n",
    "1. Keras\n",
    "1. Pandas\n",
    "1. PyTorch"
   ]
  },
  {
   "cell_type": "markdown",
   "id": "838603af",
   "metadata": {},
   "source": [
    "|Data Science Tools|\n",
    "|:-:|\n",
    "|Pandas|\n",
    "|Tensor Flow|\n",
    "|Spark|"
   ]
  },
  {
   "cell_type": "markdown",
   "id": "b8e44a44",
   "metadata": {},
   "source": [
    "### Below are a few examples of evaluating arithmatic expressions in python"
   ]
  },
  {
   "cell_type": "code",
   "execution_count": 1,
   "id": "a67876a7",
   "metadata": {},
   "outputs": [
    {
     "data": {
      "text/plain": [
       "17"
      ]
     },
     "execution_count": 1,
     "metadata": {},
     "output_type": "execute_result"
    }
   ],
   "source": [
    "# This is a simple arithmetic expression to multiply then add integers\n",
    "(3*4)+5"
   ]
  },
  {
   "cell_type": "code",
   "execution_count": 8,
   "id": "6746f0b8",
   "metadata": {},
   "outputs": [
    {
     "name": "stdout",
     "output_type": "stream",
     "text": [
      "3 hours and 20 minutes\n"
     ]
    }
   ],
   "source": [
    "# This will convert 200 minutes to hours by diving by 60\n",
    "minutes= 200\n",
    "hour= minutes//60\n",
    "rminutes= minutes-(hour*60) \n",
    "print(str(hour)+\" hours and \"+str(rminutes)+\" minutes\")"
   ]
  },
  {
   "cell_type": "markdown",
   "id": "ce0e8647",
   "metadata": {},
   "source": [
    "## Author\n",
    "Abbas Ziaraty"
   ]
  }
 ],
 "metadata": {
  "kernelspec": {
   "display_name": "Python 3 (ipykernel)",
   "language": "python",
   "name": "python3"
  },
  "language_info": {
   "codemirror_mode": {
    "name": "ipython",
    "version": 3
   },
   "file_extension": ".py",
   "mimetype": "text/x-python",
   "name": "python",
   "nbconvert_exporter": "python",
   "pygments_lexer": "ipython3",
   "version": "3.10.9"
  }
 },
 "nbformat": 4,
 "nbformat_minor": 5
}
